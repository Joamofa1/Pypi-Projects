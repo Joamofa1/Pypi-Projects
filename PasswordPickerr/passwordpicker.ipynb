{
 "cells": [
  {
   "cell_type": "code",
   "execution_count": 1,
   "metadata": {},
   "outputs": [
    {
     "name": "stdout",
     "output_type": "stream",
     "text": [
      "Welcome to Password Picker\n",
      "You Password is : proudgoat74$\n"
     ]
    }
   ],
   "source": [
    "import random\n",
    "import string\n",
    "print(\"Welcome to Password Picker\")\n",
    "\n",
    "adjectives = ['sleepy', 'slow', 'smelly', 'wet', \n",
    "              'fat', 'red', 'orange', 'yellow', 'green', \n",
    "              'blue', 'purple', 'fluffy', 'white', 'proud', 'brave']\n",
    "\n",
    "nouns = ['apple', 'dinosaur', 'ball', 'toaster', \n",
    "         'goat', 'dragon', 'hammer', 'duck', 'panda']\n",
    "         \n",
    "adjective = random.choice(adjectives)\n",
    "noun = random.choice(nouns)\n",
    "\n",
    "number = random.randrange(0, 100)\n",
    "special_char = random.choice(string.punctuation)\n",
    "\n",
    "password = adjective + noun + str(number) + special_char\n",
    "print(\"You Password is : %s\" % password)"
   ]
  },
  {
   "cell_type": "code",
   "execution_count": null,
   "metadata": {},
   "outputs": [],
   "source": []
  }
 ],
 "metadata": {
  "kernelspec": {
   "display_name": "Python 3.9.7 ('base')",
   "language": "python",
   "name": "python3"
  },
  "language_info": {
   "codemirror_mode": {
    "name": "ipython",
    "version": 3
   },
   "file_extension": ".py",
   "mimetype": "text/x-python",
   "name": "python",
   "nbconvert_exporter": "python",
   "pygments_lexer": "ipython3",
   "version": "3.9.7"
  },
  "orig_nbformat": 4,
  "vscode": {
   "interpreter": {
    "hash": "167aa75fc43da0fb9f7c1302444204f63c5b1768fb68e0825f3dee3af4893b24"
   }
  }
 },
 "nbformat": 4,
 "nbformat_minor": 2
}
